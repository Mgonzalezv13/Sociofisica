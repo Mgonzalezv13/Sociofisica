{
 "cells": [
  {
   "cell_type": "markdown",
   "id": "d46a6f2d",
   "metadata": {},
   "source": [
    "Explicación del modelo\n",
    "--\n",
    "\n",
    "El modelo de Deffuant consiste en modelar una situacion, donde un grupo de N personas tiene una opinion particular definida en un espectro que va de 0 a 1, donde 0 y 1 corresponden a dos opiniones completamente opuestas, de esta forma, el modelo supone que solo las personas que tengan opiniones que difieran en un umbral de magnitud d interactuarán.\n",
    "\n",
    "La ecuaciones que gobiernan la dinámica del sistema de acuerdo a estas reglas son:\n",
    "$$\n",
    "x = x + \\mu (x^{´} - x) \\\\\n",
    "x^{´} = x^{´} + \\mu (x - x^{´})\n",
    "$$\n",
    "\n",
    "La forma de encontrar que personas interactuaran de acuerdo a un umbral en particular, es la siguiente:\n",
    "\n",
    " $$\n",
    " |x-x^{´}| \\leq d\n",
    " $$\n",
    "\n",
    "Explicación de la simulación\n",
    "---\n",
    "\n",
    "En la primera celda se definen los parametros que caracterizarán, $d$ es la distancia de interacción $\\mu=0.5$ es el parámetro de convergencia, esta simulación esta hecha para 1000 agentes($N=1000$) y con un 50000 pasos temporales(n_pasos=50000).\n",
    "\n",
    "En la tercera celda se corre una simulación, con otros valores para los parámetros, $d=0.2$ con $\\mu=0.5$ con 1000 agentes y con 50000 pasos temporales."
   ]
  },
  {
   "cell_type": "code",
   "execution_count": 1,
   "id": "a1a917dc",
   "metadata": {},
   "outputs": [],
   "source": [
    "import numpy as np\n",
    "import matplotlib.pyplot as plt "
   ]
  },
  {
   "cell_type": "code",
   "execution_count": 2,
   "id": "26fa90df",
   "metadata": {},
   "outputs": [],
   "source": [
    "d = 0.5\n",
    "mu = 0.5\n",
    "N=1000\n",
    "n_pasos=50000\n",
    "agentes = list(np.random.uniform(0, 1, size=N))#Se define un espectro de opinion que va de 0 a 1 y subdividido en 1000\n",
    "opiniones_totales=np.zeros((n_pasos,N))\n",
    "for n in range(n_pasos):\n",
    "      i, j = np.random.randint(N), np.random.randint(N)#Escoge dos individuos aleatoriamente\n",
    "      if np.abs(agentes[i]- agentes[j])<d:#Verifica que la diferencia de opiniones de los indv cumpla con la distancia escogida\n",
    "        #Si los individuos interactuan, se calcula el cambio segun el paper\n",
    "        agentes[i] = agentes[i] + mu*(agentes[j] - agentes[i])\n",
    "        agentes[j] = agentes[j] + mu*(agentes[i] - agentes[j])\n",
    "        opiniones_totales[n,:] = agentes.copy()\n",
    "      else:#Si la diferencia de opinion es mayor a la diferencia escogida los individuos no interactuan\n",
    "        pass\n",
    "    \n",
    "    \n"
   ]
  },
  {
   "cell_type": "code",
   "execution_count": 3,
   "id": "d375ac15",
   "metadata": {},
   "outputs": [],
   "source": [
    "tiempos = [[i]*N for i in range(n_pasos)]"
   ]
  },
  {
   "cell_type": "code",
   "execution_count": 4,
   "id": "40d2f931",
   "metadata": {},
   "outputs": [
    {
     "data": {
      "text/plain": [
       "<matplotlib.collections.PathCollection at 0x7f53bf8e1b70>"
      ]
     },
     "execution_count": 4,
     "metadata": {},
     "output_type": "execute_result"
    },
    {
     "data": {
      "image/png": "[encoded data removed]",
      "text/plain": [
       "<Figure size 640x480 with 1 Axes>"
      ]
     },
     "metadata": {},
     "output_type": "display_data"
    }
   ],
   "source": [
    "plt.scatter(tiempos,opiniones_totales, s=5, color='orange')"
   ]
  },
  {
   "cell_type": "code",
   "execution_count": 5,
   "id": "e6d0190b",
   "metadata": {},
   "outputs": [],
   "source": [
    "d = 0.2\n",
    "mu = 0.5\n",
    "N=1000\n",
    "n_pasos=50000\n",
    "agentes = list(np.random.uniform(0, 1, size=N))#Se define un espectro de opinion que va de 0 a 1 y subdividido en 1000\n",
    "opiniones_totales=np.zeros((n_pasos,N))\n",
    "for n in range(n_pasos):\n",
    "      i, j = np.random.randint(N), np.random.randint(N)#Escoge dos individuos aleatoriamente\n",
    "      if np.abs(agentes[i]- agentes[j])<d:#Verifica que la diferencia de opiniones de los indv cumpla con la distancia escogida\n",
    "        #Si los individuos interactuan, se calcula el cambio segun el paper\n",
    "        agentes[i] = agentes[i] + mu*(agentes[j] - agentes[i])\n",
    "        agentes[j] = agentes[j] + mu*(agentes[i] - agentes[j])\n",
    "        opiniones_totales[n,:] = agentes.copy()\n",
    "      else:#Si la diferencia de opinion es mayor a la diferencia escogida los individuos no interactuan\n",
    "        pass\n",
    "    \n",
    "    "
   ]
  },
  {
   "cell_type": "code",
   "execution_count": 7,
   "id": "87c9737d",
   "metadata": {},
   "outputs": [
    {
     "data": {
      "text/plain": [
       "<matplotlib.collections.PathCollection at 0x7f53a75295a0>"
      ]
     },
     "execution_count": 7,
     "metadata": {},
     "output_type": "execute_result"
    },
    {
     "data": {
      "image/png": "[encoded data removed]",
      "text/plain": [
       "<Figure size 640x480 with 1 Axes>"
      ]
     },
     "metadata": {},
     "output_type": "display_data"
    }
   ],
   "source": [
    "plt.scatter(tiempos,opiniones_totales, s=3, color='blue')"
   ]
  },
  {
   "cell_type": "code",
   "execution_count": null,
   "id": "ae6b0a4b",
   "metadata": {},
   "outputs": [],
   "source": []
  }
 ],
 "metadata": {
  "kernelspec": {
   "display_name": "Python 3 (ipykernel)",
   "language": "python",
   "name": "python3"
  },
  "language_info": {
   "codemirror_mode": {
    "name": "ipython",
    "version": 3
   },
   "file_extension": ".py",
   "mimetype": "text/x-python",
   "name": "python",
   "nbconvert_exporter": "python",
   "pygments_lexer": "ipython3",
   "version": "3.10.9"
  }
 },
 "nbformat": 4,
 "nbformat_minor": 5
}
